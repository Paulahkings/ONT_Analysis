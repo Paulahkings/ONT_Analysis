{
 "cells": [
  {
   "cell_type": "markdown",
   "metadata": {},
   "source": [
    "## EANBiT Residential Training 2021\n"
   ]
  },
  {
   "cell_type": "markdown",
   "metadata": {},
   "source": [
    "### Link to the data\n",
    "[This](https://www.dropbox.com/s/nkyunpxtwa4s0td/recov_data.zip?dl=0) is the link to the fast5 files we will use for this training.\n",
    "\n",
    "\n",
    "[This](https://drive.google.com/file/d/1Jyf_yMIhor7NnqhbIfBJSBlRTuKvJvhx/view?usp=sharing) is the link to the basecalled fastq files.\n"
   ]
  },
  {
   "cell_type": "code",
   "execution_count": 1,
   "metadata": {},
   "outputs": [
    {
     "name": "stdout",
     "output_type": "stream",
     "text": [
      "Requirement already satisfied: bash-kernel in c:\\users\\secondfiddle\\anaconda3\\lib\\site-packages (0.7.2)\n",
      "Requirement already satisfied: pexpect>=4.0 in c:\\users\\secondfiddle\\anaconda3\\lib\\site-packages (from bash-kernel) (4.8.0)\n",
      "Requirement already satisfied: ptyprocess>=0.5 in c:\\users\\secondfiddle\\anaconda3\\lib\\site-packages (from pexpect>=4.0->bash-kernel) (0.7.0)\n"
     ]
    }
   ],
   "source": [
    "#Install bash kernel\n",
    "import sys\n",
    "!{sys.executable} -m pip install bash-kernel"
   ]
  },
  {
   "cell_type": "code",
   "execution_count": 2,
   "metadata": {},
   "outputs": [
    {
     "name": "stdout",
     "output_type": "stream",
     "text": [
      "Available kernels:\n",
      "  python3    C:\\Users\\SecondFiddle\\Anaconda3\\share\\jupyter\\kernels\\python3\n"
     ]
    }
   ],
   "source": [
    "#jupyter console --kernel bash\n",
    "!jupyter kernelspec list"
   ]
  },
  {
   "cell_type": "markdown",
   "metadata": {},
   "source": [
    "### Visualizing fast5 files using Bulkvis\n",
    "BulkVis is a program written in Python3 using Bokeh to visualise raw squiggle data from Oxford Nanopore Technologies (ONT) bulkfiles. [Bulkvis](https://github.com/LooseLab/bulkvis) scans a folder containing bulk FAST5 files at startup. An individual file is selected and specific channels plotted. Basic metadata are displayed to the user. To navigate coordinates are input in the format `channel: start_time-end_time`. Alternatively pasting a FASTQ read header from a base called read will jump to its channel, time and raw signal from the bulk FAST5 file (Payne et al., 2019). Further information on how to strt bulkvis can be found [here](https://bulkvis.readthedocs.io/en/latest/quickstart.html).\n",
    "\n",
    "Before you install bulkvis, make sure you have pip installed.\n",
    "To check whether you have pip installed, run this command:\n",
    "\n",
    "`pip --version`\n",
    "\n",
    "If pip is not installed, no worries! Let's fix that.\n",
    "Let's get on with the installation.\n",
    "To install pip:"
   ]
  },
  {
   "cell_type": "code",
   "execution_count": null,
   "metadata": {},
   "outputs": [],
   "source": [
    "## On Debian/Ubuntu\n",
    "apt install python3-pip\n",
    "## On CentOS\n",
    "yum install epel-release \n",
    "yum install python-pip\n",
    "## Using conda \n",
    "conda install -c anaconda pip"
   ]
  },
  {
   "cell_type": "markdown",
   "metadata": {},
   "source": [
    "Once you have `pip` installed, you will be required to create and activate a virtual environment to work on.\n",
    "To do this, follow [these](https://bulkvis.readthedocs.io/en/latest/installation.html) simple instructions. Please edit the paths to match yours where need be, and make sure you are using the **bulk fast5 file** not a single fast5 file. This bulk fast 5 file is obtained by setting up the sequencing run as shown [here](https://github.com/LooseLab/bulkvis/issues/28) on MinKNOW."
   ]
  },
  {
   "cell_type": "markdown",
   "metadata": {},
   "source": [
    "### Basecalling\n",
    "fast5 files generated from the sequencing step are basecalled\n",
    "##### Basecalling script\n",
    "This script was developed by [Sirselim](https://gist.github.com/sirselim) for faster basecalling with the free GPU resources on [Google collaboratory](https://research.google.com/colaboratory/). If you would like to try out/use this resource, please use your google account to open google collaboratory, and  create a notebook of your own to implement the script below.\n",
    "\n",
    "[This](https://gist.github.com/sirselim/13f70ae69f2a512e7d9e1f00f9704f53) is the link to his basecalling script on his github page. However, there is an alternative to use CPU resources, whose basecalling capabilities are way slower.\n",
    "\n",
    "Alternatively, we can perform CPU basecalling as shown below. It is recommended you run this step on the HPC where more threads can be allocated per caller. "
   ]
  },
  {
   "cell_type": "markdown",
   "metadata": {},
   "source": [
    "Remotely sign into your HPC using your ssh address: "
   ]
  },
  {
   "cell_type": "code",
   "execution_count": null,
   "metadata": {},
   "outputs": [],
   "source": [
    "ssh <username>@host.address"
   ]
  },
  {
   "cell_type": "markdown",
   "metadata": {},
   "source": [
    "Guppy can be installed using the code shown below:"
   ]
  },
  {
   "cell_type": "code",
   "execution_count": null,
   "metadata": {},
   "outputs": [],
   "source": [
    "%%shell\n",
    "#Install Guppy\n",
    "GuppyBinary=(\"https://mirror.oxfordnanoportal.com/software/analysis/ont-guppy_5.0.11_linux64.tar.gz\")\n",
    "wget $GuppyBinary"
   ]
  },
  {
   "cell_type": "markdown",
   "metadata": {},
   "source": [
    "Unpack the guppy binary files using the following command:"
   ]
  },
  {
   "cell_type": "code",
   "execution_count": null,
   "metadata": {},
   "outputs": [],
   "source": [
    "%%shell\n",
    "tar -xvzf ont-guppy_5.0.11_linux64.tar.gz"
   ]
  },
  {
   "cell_type": "markdown",
   "metadata": {},
   "source": [
    "To perform the basecalling step you need to know the [flowcell and ONT kit](https://denbi-nanopore-training-course.readthedocs.io/en/latest/basecalling/basecalling.html) used to generate your fast5 files. In this case the kit used was SQK-PCB109, and FLO-MIN106 flowcell. The config file used for this combination is:\n",
    "**dna_r9.4.1_450bps_hac**"
   ]
  },
  {
   "cell_type": "code",
   "execution_count": null,
   "metadata": {},
   "outputs": [],
   "source": [
    "guppy_basecaller --compress_fastq -i ~/workdir/data/fast5_tiny/ \\\n",
    "-s ~/workdir/basecall_tiny/ --cpu_threads_per_caller 14 --num_callers 1 -c dna_r9.4.1_450bps_hac.cfg"
   ]
  },
  {
   "cell_type": "markdown",
   "metadata": {},
   "source": [
    "If you encounter a `libzmq.so.5` error go [here](https://github.com/bulwark-crypto/Bulwark/issues/28) and use the code chunk to recompile zeromq library "
   ]
  },
  {
   "cell_type": "markdown",
   "metadata": {},
   "source": [
    "We will be using the script [ONT_analysis.sh](https://github.com/eKariuki-sleepy/ONT_Analysis/blob/main/ONT_analysis.sh) for basecalling. Please edit the variables accordingly to suit your directory structure. The exercise will take approximately 25 minutes running on 16 threads and one-caller. [This](https://denbi-nanopore-training-course.readthedocs.io/en/latest/basecalling/basecalling.html) resource provides more information about basecalling with guppy."
   ]
  },
  {
   "cell_type": "markdown",
   "metadata": {},
   "source": [
    "### Filter Low-quality reads with nanofilt\n",
    "\n",
    "This tool is written for Python 3. It performs filtering on quality and/or read length, and optional trimming after passing filters.\n",
    "Intended to be used:\n",
    "\n",
    " - directly after fastq extraction\n",
    " - prior to mapping\n",
    " - in a stream between extraction and mapping"
   ]
  },
  {
   "cell_type": "code",
   "execution_count": null,
   "metadata": {},
   "outputs": [],
   "source": [
    "#Install nanofilt\n",
    "#conda\n",
    "conda install -c bioconda nanofilt\n",
    "#pip\n",
    "pip install nanofilt"
   ]
  },
  {
   "cell_type": "code",
   "execution_count": null,
   "metadata": {},
   "outputs": [],
   "source": [
    "#This below runs Nanofilt, trimming quality at <int>7> (based on pycoQc analysis).\n",
    "#Remember a quality of 10 indicates 90% accuracy.\n",
    "gunzip -c reads.fastq.gz | NanoFilt -q 10 | gzip > highQuality-reads.fastq.gz"
   ]
  },
  {
   "cell_type": "markdown",
   "metadata": {},
   "source": [
    "### Adapter and Quality Trimming with Porechop\n",
    "\n",
    "Begin by cloning the repo (below). Running the setup.py script will compile the C++ components of Porechop and install a porechop executable:"
   ]
  },
  {
   "cell_type": "code",
   "execution_count": null,
   "metadata": {},
   "outputs": [],
   "source": [
    "#Clone the repo\n",
    "git clone https://github.com/rrwick/Porechop.git\n",
    "# move to the porechop working directory\n",
    "cd Porechop\n",
    "#Run the script setup.py to compile and install porechop\n",
    "python3 setup.py install\n",
    "#Check whether porechop has been successfully installed, as well as how its used\n",
    "porechop -h"
   ]
  },
  {
   "cell_type": "markdown",
   "metadata": {},
   "source": [
    "Basic adapter trimming can be done as follows:"
   ]
  },
  {
   "cell_type": "code",
   "execution_count": null,
   "metadata": {},
   "outputs": [],
   "source": [
    "porechop -i $fastq_dir -o output_reads.fastq.gz"
   ]
  },
  {
   "cell_type": "code",
   "execution_count": null,
   "metadata": {},
   "outputs": [],
   "source": [
    "python utils/set_confi.py -b recov_data.zip -i /home/ekariuki/eanbitRT21 -e /home/ekariuki/eanbitRT21/fastqs -m /home/ekariuki/eanbitRT21/fastqs -c config.ini"
   ]
  },
  {
   "cell_type": "markdown",
   "metadata": {},
   "source": [
    "### Getting the Reference Genome for mapping.\n",
    "Our data is sourced from the Black Soldier Fly (BSF). The BSF reference genome can be found [here](https://www.ncbi.nlm.nih.gov/assembly/GCF_905115235.1/)"
   ]
  },
  {
   "cell_type": "markdown",
   "metadata": {},
   "source": [
    "### References\n",
    "1. Payne, A., Holmes, N., Rakyan, V., & Loose, M. (2019). BulkVis: a graphical viewer for Oxford nanopore bulk FAST5 files. Bioinformatics, 35(13), 2193–2198. https://doi.org/10.1093/BIOINFORMATICS/BTY841\n",
    "\n"
   ]
  }
 ],
 "metadata": {
  "kernelspec": {
   "display_name": "Python 3",
   "language": "python",
   "name": "python3"
  },
  "language_info": {
   "codemirror_mode": {
    "name": "ipython",
    "version": 3
   },
   "file_extension": ".py",
   "mimetype": "text/x-python",
   "name": "python",
   "nbconvert_exporter": "python",
   "pygments_lexer": "ipython3",
   "version": "3.7.4"
  }
 },
 "nbformat": 4,
 "nbformat_minor": 4
}
